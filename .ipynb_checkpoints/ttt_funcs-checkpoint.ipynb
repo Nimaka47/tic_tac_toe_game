{
 "cells": [
  {
   "cell_type": "code",
   "execution_count": 1,
   "id": "7fc484b6-aa16-41be-b2a8-e2b18a8d638d",
   "metadata": {},
   "outputs": [
    {
     "name": "stderr",
     "output_type": "stream",
     "text": [
      "C:\\Users\\artem.larin\\AppData\\Local\\Temp\\ipykernel_20332\\17930138.py:4: DeprecationWarning: \n",
      "Pyarrow will become a required dependency of pandas in the next major release of pandas (pandas 3.0),\n",
      "(to allow more performant data types, such as the Arrow string type, and better interoperability with other libraries)\n",
      "but was not found to be installed on your system.\n",
      "If this would cause problems for you,\n",
      "please provide us feedback at https://github.com/pandas-dev/pandas/issues/54466\n",
      "        \n",
      "  import pandas as pd\n"
     ]
    }
   ],
   "source": [
    "import numpy as np\n",
    "import random\n",
    "import itertools as it\n",
    "import pandas as pd\n",
    "from IPython.display import clear_output\n",
    "import matplotlib.pyplot as plt"
   ]
  },
  {
   "cell_type": "code",
   "execution_count": 2,
   "id": "e14505a8-5616-42ff-bfed-20f90a43b9ec",
   "metadata": {},
   "outputs": [],
   "source": [
    "fact = lambda x: x * fact(x - 1) if x >= 1 else 1"
   ]
  },
  {
   "cell_type": "code",
   "execution_count": 3,
   "id": "b74c2b99-711b-4647-a5cf-d5acf1f56d46",
   "metadata": {},
   "outputs": [],
   "source": [
    "def ori(choose):\n",
    "    ind = np.array([(i // 3 + 1) * 10 + (i % 3 + 1) for i in range(3 ** 2)])\n",
    "    options = ['hor', 'ver', 'gen', 'dip', 'dim']\n",
    "    assert choose in options, 'wrong choose'\n",
    "    match choose:\n",
    "        case 'gen':\n",
    "            return ind # ind\n",
    "        case 'hor':\n",
    "            return list(ind // 10) # ind_h\n",
    "        case 'ver':\n",
    "            return list(ind % 10) # ind_v\n",
    "        case 'dip':\n",
    "            return list(ind // 10 + ind % 10) # ind_p\n",
    "        case 'dim':\n",
    "            return list(ind // 10 - ind % 10) # ind_m"
   ]
  },
  {
   "cell_type": "code",
   "execution_count": 4,
   "id": "2f5a780c-d47e-431a-9d9e-e3d1fbc6f171",
   "metadata": {},
   "outputs": [],
   "source": [
    "def check(map, idx):\n",
    "    res = False\n",
    "    # print(map[idx])\n",
    "    for opt in ['hor', 'ver', 'dip', 'dim']:\n",
    "        hor = ori(opt)\n",
    "        \n",
    "        I = hor == hor[idx]\n",
    "        hor = np.zeros(np.size(hor)).astype('int')\n",
    "        hor[I] = int(1)\n",
    "        \n",
    "        map_buf = map\n",
    "        map_buf = np.array([1 if i == map[idx] else 0 for i in map_buf])\n",
    "        \n",
    "        res += np.sum(map_buf * hor) == 3\n",
    "\n",
    "    return res"
   ]
  },
  {
   "cell_type": "code",
   "execution_count": 5,
   "id": "29c64c14-b913-482b-8ba3-e6af1fba08a5",
   "metadata": {},
   "outputs": [],
   "source": [
    "def get_map(map):\n",
    "    N = 3\n",
    "    for i in reversed(range(N)):\n",
    "        print(*map[i * N : i * N + N])\n",
    "    print()"
   ]
  },
  {
   "cell_type": "code",
   "execution_count": 2,
   "id": "1e2c77ce-7fc7-4886-bc5c-057b3d4f350d",
   "metadata": {},
   "outputs": [],
   "source": [
    "empty_space = lambda :['.' for _ in range(3 ** 2)]"
   ]
  },
  {
   "cell_type": "code",
   "execution_count": 7,
   "id": "ae342473-1108-480b-b483-5a128cf85815",
   "metadata": {},
   "outputs": [],
   "source": [
    "def gen(i, a):\n",
    "    if i < 1: \n",
    "        print(a)\n",
    "        return\n",
    "\n",
    "    gen(i - 1, a + ['x'])\n",
    "    gen(i - 1, a + ['o'])"
   ]
  },
  {
   "cell_type": "code",
   "execution_count": 3,
   "id": "3b6530ef-c98f-4e34-a0b6-21f54a86d224",
   "metadata": {},
   "outputs": [],
   "source": [
    "def fillout(map = empty_space(), idx = [int(i) for i in range(3 ** 2)], order = 'x', history = []):\n",
    "    assert order in ['x', 'o'], 'incorrect character'\n",
    "    if len(idx) < 1: return map, history\n",
    "    i = int(random.choice(idx))\n",
    "    map[i] = order\n",
    "    history.append(i)\n",
    "\n",
    "    if check(map, i): \n",
    "        print(order, 'is win', end='\\n'*2)\n",
    "        return map, history\n",
    "   \n",
    "    idx.remove(i)\n",
    "    option = ['x', 'o']\n",
    "    option.remove(order)\n",
    "    \n",
    "    return fillout(map, idx, order = option[0])\n",
    "\n",
    "# map, history = fillout() \n",
    "# get_map(map)\n",
    "# print(history)"
   ]
  },
  {
   "cell_type": "code",
   "execution_count": 10,
   "id": "33294a09-f13b-45ab-9afc-9aaed16b3fd6",
   "metadata": {},
   "outputs": [],
   "source": [
    "def get_history(history):\n",
    "    map = empty_space()\n",
    "    \n",
    "    for i in range(len(history)):\n",
    "        if i % 2 == 0:\n",
    "            map[history[i]] = 'x'\n",
    "        else:\n",
    "            map[history[i]] = 'o'\n",
    "            \n",
    "    return map"
   ]
  },
  {
   "cell_type": "code",
   "execution_count": 4,
   "id": "5ca02699-8b27-4484-ba3c-410ae4dc9d60",
   "metadata": {},
   "outputs": [],
   "source": [
    "def get_result(history):\n",
    "    for i in range(1, len(history) + 1):\n",
    "        map = get_history(history[0:i])\n",
    "        # get_map(map)\n",
    "        if check(map, history[i - 1]):\n",
    "            res = (i % 2 == 0) + 1\n",
    "            # print('Player %d wins'%(res))\n",
    "            break\n",
    "        elif i == len(history):\n",
    "            res = 0\n",
    "            # print('Played to a draw')\n",
    "\n",
    "    return res, i\n",
    "    \n",
    "# history = [i for i in range(3 ** 2)]\n",
    "# random.shuffle(history)\n",
    "# print(get_result(history))"
   ]
  },
  {
   "cell_type": "code",
   "execution_count": 13,
   "id": "3bbc5c60-c3b1-48fa-be96-ff8744f5af28",
   "metadata": {},
   "outputs": [],
   "source": [
    "def gen_history(array, history):\n",
    "    if len(array) < 1: \n",
    "        \n",
    "        print(history)\n",
    "        return\n",
    "    \n",
    "    for el in array:\n",
    "        buf = array.copy()\n",
    "        buf.remove(el)\n",
    "        gen_history(buf, history + [el])\n",
    "\n",
    "# a = gen_history([i for i in range(3)], [])"
   ]
  }
 ],
 "metadata": {
  "kernelspec": {
   "display_name": "Python 3 (ipykernel)",
   "language": "python",
   "name": "python3"
  },
  "language_info": {
   "codemirror_mode": {
    "name": "ipython",
    "version": 3
   },
   "file_extension": ".py",
   "mimetype": "text/x-python",
   "name": "python",
   "nbconvert_exporter": "python",
   "pygments_lexer": "ipython3",
   "version": "3.12.2"
  }
 },
 "nbformat": 4,
 "nbformat_minor": 5
}
