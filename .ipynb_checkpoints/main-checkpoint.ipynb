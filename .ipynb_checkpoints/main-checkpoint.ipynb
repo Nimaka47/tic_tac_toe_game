{
 "cells": [
  {
   "cell_type": "code",
   "execution_count": 22,
   "id": "34466411-8419-4db6-a469-ce1f690d3a4f",
   "metadata": {},
   "outputs": [],
   "source": [
    "%run ./ttt_funcs.ipynb"
   ]
  },
  {
   "cell_type": "code",
   "execution_count": 24,
   "id": "b5324d37-3c08-4b2d-b591-1c5d26854054",
   "metadata": {},
   "outputs": [
    {
     "name": "stdout",
     "output_type": "stream",
     "text": [
      "100.0 %\n",
      "426.89 sec\n"
     ]
    }
   ],
   "source": [
    "df = pc_study(100)"
   ]
  },
  {
   "cell_type": "code",
   "execution_count": 28,
   "id": "8438af9b-c739-4297-a879-6043b7a370a0",
   "metadata": {},
   "outputs": [
    {
     "name": "stdout",
     "output_type": "stream",
     "text": [
      "Game Over\n",
      "Bye!\n"
     ]
    }
   ],
   "source": [
    "human_vs_pc(df, 'know')"
   ]
  }
 ],
 "metadata": {
  "kernelspec": {
   "display_name": "Python 3 (ipykernel)",
   "language": "python",
   "name": "python3"
  },
  "language_info": {
   "codemirror_mode": {
    "name": "ipython",
    "version": 3
   },
   "file_extension": ".py",
   "mimetype": "text/x-python",
   "name": "python",
   "nbconvert_exporter": "python",
   "pygments_lexer": "ipython3",
   "version": "3.12.2"
  }
 },
 "nbformat": 4,
 "nbformat_minor": 5
}
