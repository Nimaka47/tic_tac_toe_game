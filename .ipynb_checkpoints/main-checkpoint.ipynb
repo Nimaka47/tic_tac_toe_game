{
 "cells": [
  {
   "cell_type": "code",
   "execution_count": 1,
   "id": "34466411-8419-4db6-a469-ce1f690d3a4f",
   "metadata": {},
   "outputs": [
    {
     "name": "stderr",
     "output_type": "stream",
     "text": [
      "C:\\Users\\artem.larin\\AppData\\Local\\Temp\\ipykernel_21196\\17930138.py:4: DeprecationWarning: \n",
      "Pyarrow will become a required dependency of pandas in the next major release of pandas (pandas 3.0),\n",
      "(to allow more performant data types, such as the Arrow string type, and better interoperability with other libraries)\n",
      "but was not found to be installed on your system.\n",
      "If this would cause problems for you,\n",
      "please provide us feedback at https://github.com/pandas-dev/pandas/issues/54466\n",
      "        \n",
      "  import pandas as pd\n"
     ]
    }
   ],
   "source": [
    "%run ./ttt_funcs.ipynb"
   ]
  },
  {
   "cell_type": "code",
   "execution_count": 3,
   "id": "10577eff-32f4-47c2-a167-db262176ae6d",
   "metadata": {},
   "outputs": [
    {
     "name": "stdout",
     "output_type": "stream",
     "text": [
      "6 7 8\n",
      "3 4 5\n",
      "0 1 2\n",
      "\n",
      ". . .\n",
      ". . .\n",
      ". . .\n",
      "\n"
     ]
    },
    {
     "name": "stdin",
     "output_type": "stream",
     "text": [
      "x, введите ваш следующий шаг:  -1\n"
     ]
    },
    {
     "name": "stdout",
     "output_type": "stream",
     "text": [
      "Bye!\n"
     ]
    }
   ],
   "source": [
    "history = []\n",
    "current = 0\n",
    "opt = {0:'x', 1:'o'}\n",
    "while current >= 0:\n",
    "    \n",
    "    clear_output(wait=True)\n",
    "    \n",
    "    get_map([i for i in range(9)])\n",
    "\n",
    "    map = get_history(history)\n",
    "    get_map(map)\n",
    "    current = input(f'{opt[len(history) % 2]}, введите ваш следующий шаг: ')\n",
    "    current = int(current)\n",
    "    if current in history or current < 0 or current > 8: continue\n",
    "    else: history.append(current)\n",
    "    # get_map(get_history(history))\n",
    "    # print(current, history)\n",
    "    if check(get_history(history), current):\n",
    "        clear_output(wait=True)\n",
    "    \n",
    "        get_map([i for i in range(9)])\n",
    "    \n",
    "        map = get_history(history)\n",
    "        get_map(map)\n",
    "        print(f'{opt[len(history) % 2 == 0]} победил!')\n",
    "        print('Game Over')\n",
    "        break\n",
    "    if len(history) == 9:\n",
    "        clear_output(wait=True)\n",
    "    \n",
    "        get_map([i for i in range(9)])\n",
    "    \n",
    "        map = get_history(history)\n",
    "        get_map(map)\n",
    "        print('Ничья!')\n",
    "        print('Game Over')\n",
    "        break\n",
    "if current < 0: print('Bye!')        "
   ]
  },
  {
   "cell_type": "code",
   "execution_count": null,
   "id": "2cb8f2ad-2276-41ac-9dfe-a0302e6f6f41",
   "metadata": {},
   "outputs": [],
   "source": [
    "arr = [i for i in range(9)]\n",
    "columns = ['1', '2', '3', '4', '5', '6', '7', '8', '9', 'winner', 'steps']\n",
    "\n",
    "Q = list(it.permutations(arr))\n",
    "random.shuffle(Q)\n",
    "\n",
    "data = []\n",
    "n = 0\n",
    "N = len(N)\n",
    "frez = 0\n",
    "\n",
    "for q in Q:\n",
    "    history = list(q)\n",
    "    res, steps = get_result(history)\n",
    "    data.append(history + [res] + [steps])\n",
    "    n += 1\n",
    "    per = round(n / N * 100, 1)\n",
    "    \n",
    "    if per > 100: break\n",
    "    if per != frez:\n",
    "        print(per)\n",
    "        frez = per\n",
    "        clear_output(wait=True)\n",
    "\n",
    "df = pd.DataFrame(data, columns=columns)"
   ]
  },
  {
   "cell_type": "code",
   "execution_count": null,
   "id": "c892362a-5e3d-40f2-8cf6-99963616a048",
   "metadata": {},
   "outputs": [],
   "source": [
    "df.head(10)"
   ]
  },
  {
   "cell_type": "code",
   "execution_count": null,
   "id": "075ee8b5-07f8-4c13-bbed-a78065430639",
   "metadata": {},
   "outputs": [],
   "source": [
    "df.info()"
   ]
  },
  {
   "cell_type": "code",
   "execution_count": null,
   "id": "fa8ad2ba-6a11-4f09-8da0-c09cfe0ef291",
   "metadata": {},
   "outputs": [],
   "source": [
    "df[(df['winner'] == 1) & (df['1'] == 4) & (df['2'] == 1) & (df['3'] == 0) & (df['4'] == 8) & (df['5'] == 6)].hist(bins = 9)\n",
    "plt.tight_layout()"
   ]
  }
 ],
 "metadata": {
  "kernelspec": {
   "display_name": "Python 3 (ipykernel)",
   "language": "python",
   "name": "python3"
  },
  "language_info": {
   "codemirror_mode": {
    "name": "ipython",
    "version": 3
   },
   "file_extension": ".py",
   "mimetype": "text/x-python",
   "name": "python",
   "nbconvert_exporter": "python",
   "pygments_lexer": "ipython3",
   "version": "3.12.2"
  }
 },
 "nbformat": 4,
 "nbformat_minor": 5
}
